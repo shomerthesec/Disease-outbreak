{
 "cells": [
  {
   "cell_type": "markdown",
   "metadata": {
    "id": "3EMBYHQpHTCu"
   },
   "source": [
    "**The features of the dataset are described as follows:**\n",
    "\n",
    "*F1 Date            \n",
    "F9 Temperature2  \n",
    "F2 Lat             \n",
    "F10 Albedo  \n",
    "F3 Long              \n",
    "F11 GeopotentialHS  \n",
    "F4 Temperature1    \n",
    "F12 Pressure1  \n",
    "F5 Humidity1       \n",
    "F13 Pressure2  \n",
    "F6 LWdown          \n",
    "F14 Humidity2  \n",
    "F7 SWdown          \n",
    "F15 Wind speed  \n",
    "F8 Aaerosolindex   \n",
    "Value Number of infected people*\n",
    "\n",
    "**Required**  \n",
    "Please build and evaluate two models:\n",
    "1. A regression model for the output values.\n",
    "2. A classification model for the categorized output values.  \n",
    "\n",
    "Write a report (for both parts) to explain your work and to show your results."
   ]
  },
  {
   "cell_type": "code",
   "execution_count": 2,
   "metadata": {
    "id": "A_yhOuMG14ta"
   },
   "outputs": [],
   "source": [
    "import pandas as pd\n",
    "import numpy as np\n",
    "import sklearn\n",
    "import matplotlib.pyplot as plt\n"
   ]
  },
  {
   "cell_type": "code",
   "execution_count": null,
   "metadata": {
    "id": "pYByDIi92cs8"
   },
   "outputs": [],
   "source": [
    "# !pip install patool\n",
    "# import patoolib\n",
    "# patoolib.extract_archive(\"/content/drive/MyDrive/DatasetHW1.rar\", outdir=\"/content/drive/MyDrive/\")"
   ]
  },
  {
   "cell_type": "code",
   "execution_count": 4,
   "metadata": {
    "colab": {
     "base_uri": "https://localhost:8080/",
     "height": 204
    },
    "id": "IAv82AEB2U2o",
    "outputId": "fa6bd939-f787-40e7-e8f8-76c869054211"
   },
   "outputs": [
    {
     "data": {
      "text/html": [
       "<div>\n",
       "<style scoped>\n",
       "    .dataframe tbody tr th:only-of-type {\n",
       "        vertical-align: middle;\n",
       "    }\n",
       "\n",
       "    .dataframe tbody tr th {\n",
       "        vertical-align: top;\n",
       "    }\n",
       "\n",
       "    .dataframe thead th {\n",
       "        text-align: right;\n",
       "    }\n",
       "</style>\n",
       "<table border=\"1\" class=\"dataframe\">\n",
       "  <thead>\n",
       "    <tr style=\"text-align: right;\">\n",
       "      <th></th>\n",
       "      <th>Unnamed: 0</th>\n",
       "      <th>ID</th>\n",
       "      <th>F1</th>\n",
       "      <th>F2</th>\n",
       "      <th>F3</th>\n",
       "      <th>F4</th>\n",
       "      <th>F5</th>\n",
       "      <th>F6</th>\n",
       "      <th>F7</th>\n",
       "      <th>F8</th>\n",
       "      <th>F9</th>\n",
       "      <th>F10</th>\n",
       "      <th>F11</th>\n",
       "      <th>F12</th>\n",
       "      <th>F13</th>\n",
       "      <th>F14</th>\n",
       "      <th>F15</th>\n",
       "      <th>Value</th>\n",
       "    </tr>\n",
       "  </thead>\n",
       "  <tbody>\n",
       "    <tr>\n",
       "      <th>0</th>\n",
       "      <td>3051</td>\n",
       "      <td>3052</td>\n",
       "      <td>22/01/2020</td>\n",
       "      <td>47.4914</td>\n",
       "      <td>-121.8346</td>\n",
       "      <td>4.6849</td>\n",
       "      <td>0.004741</td>\n",
       "      <td>305.8819</td>\n",
       "      <td>305.5443</td>\n",
       "      <td>-1.6057</td>\n",
       "      <td>275.9406</td>\n",
       "      <td>35.1916</td>\n",
       "      <td>1044.5486</td>\n",
       "      <td>90351.2768</td>\n",
       "      <td>90288.1143</td>\n",
       "      <td>0.004573</td>\n",
       "      <td>90288.1143</td>\n",
       "      <td>1</td>\n",
       "    </tr>\n",
       "    <tr>\n",
       "      <th>1</th>\n",
       "      <td>3389</td>\n",
       "      <td>3390</td>\n",
       "      <td>22/01/2020</td>\n",
       "      <td>31.8257</td>\n",
       "      <td>117.2264</td>\n",
       "      <td>1.3147</td>\n",
       "      <td>0.004022</td>\n",
       "      <td>313.3366</td>\n",
       "      <td>286.8496</td>\n",
       "      <td>-1.8308</td>\n",
       "      <td>281.6387</td>\n",
       "      <td>24.9399</td>\n",
       "      <td>309.8847</td>\n",
       "      <td>98497.8600</td>\n",
       "      <td>98975.0940</td>\n",
       "      <td>0.004071</td>\n",
       "      <td>98975.0940</td>\n",
       "      <td>1</td>\n",
       "    </tr>\n",
       "    <tr>\n",
       "      <th>2</th>\n",
       "      <td>3390</td>\n",
       "      <td>3391</td>\n",
       "      <td>22/01/2020</td>\n",
       "      <td>40.1824</td>\n",
       "      <td>116.4142</td>\n",
       "      <td>0.9599</td>\n",
       "      <td>0.004042</td>\n",
       "      <td>310.4150</td>\n",
       "      <td>355.6478</td>\n",
       "      <td>-1.0110</td>\n",
       "      <td>283.7595</td>\n",
       "      <td>36.3201</td>\n",
       "      <td>314.4100</td>\n",
       "      <td>98271.7222</td>\n",
       "      <td>98835.0176</td>\n",
       "      <td>0.003854</td>\n",
       "      <td>98835.0176</td>\n",
       "      <td>14</td>\n",
       "    </tr>\n",
       "    <tr>\n",
       "      <th>3</th>\n",
       "      <td>3391</td>\n",
       "      <td>3392</td>\n",
       "      <td>22/01/2020</td>\n",
       "      <td>30.0572</td>\n",
       "      <td>107.8740</td>\n",
       "      <td>6.9995</td>\n",
       "      <td>0.005700</td>\n",
       "      <td>325.5123</td>\n",
       "      <td>413.2223</td>\n",
       "      <td>-2.1141</td>\n",
       "      <td>282.6847</td>\n",
       "      <td>14.9820</td>\n",
       "      <td>515.6411</td>\n",
       "      <td>95626.8403</td>\n",
       "      <td>96287.3399</td>\n",
       "      <td>0.002510</td>\n",
       "      <td>96287.3399</td>\n",
       "      <td>6</td>\n",
       "    </tr>\n",
       "    <tr>\n",
       "      <th>4</th>\n",
       "      <td>3392</td>\n",
       "      <td>3393</td>\n",
       "      <td>22/01/2020</td>\n",
       "      <td>26.0789</td>\n",
       "      <td>117.9874</td>\n",
       "      <td>7.3174</td>\n",
       "      <td>0.005321</td>\n",
       "      <td>325.3152</td>\n",
       "      <td>515.3695</td>\n",
       "      <td>-1.7381</td>\n",
       "      <td>284.0376</td>\n",
       "      <td>14.4931</td>\n",
       "      <td>590.4265</td>\n",
       "      <td>94457.6359</td>\n",
       "      <td>95359.5988</td>\n",
       "      <td>0.006967</td>\n",
       "      <td>95359.5988</td>\n",
       "      <td>1</td>\n",
       "    </tr>\n",
       "  </tbody>\n",
       "</table>\n",
       "</div>"
      ],
      "text/plain": [
       "   Unnamed: 0    ID          F1       F2        F3      F4        F5  \\\n",
       "0        3051  3052  22/01/2020  47.4914 -121.8346  4.6849  0.004741   \n",
       "1        3389  3390  22/01/2020  31.8257  117.2264  1.3147  0.004022   \n",
       "2        3390  3391  22/01/2020  40.1824  116.4142  0.9599  0.004042   \n",
       "3        3391  3392  22/01/2020  30.0572  107.8740  6.9995  0.005700   \n",
       "4        3392  3393  22/01/2020  26.0789  117.9874  7.3174  0.005321   \n",
       "\n",
       "         F6        F7      F8        F9      F10        F11         F12  \\\n",
       "0  305.8819  305.5443 -1.6057  275.9406  35.1916  1044.5486  90351.2768   \n",
       "1  313.3366  286.8496 -1.8308  281.6387  24.9399   309.8847  98497.8600   \n",
       "2  310.4150  355.6478 -1.0110  283.7595  36.3201   314.4100  98271.7222   \n",
       "3  325.5123  413.2223 -2.1141  282.6847  14.9820   515.6411  95626.8403   \n",
       "4  325.3152  515.3695 -1.7381  284.0376  14.4931   590.4265  94457.6359   \n",
       "\n",
       "          F13       F14         F15  Value  \n",
       "0  90288.1143  0.004573  90288.1143      1  \n",
       "1  98975.0940  0.004071  98975.0940      1  \n",
       "2  98835.0176  0.003854  98835.0176     14  \n",
       "3  96287.3399  0.002510  96287.3399      6  \n",
       "4  95359.5988  0.006967  95359.5988      1  "
      ]
     },
     "execution_count": 4,
     "metadata": {},
     "output_type": "execute_result"
    }
   ],
   "source": [
    "#df=pd.read_csv('/content/drive/MyDrive/DatasetHW1.csv')\n",
    "df=pd.read_csv('Infection_Dataset_cleaned.csv')\n",
    "df.head()"
   ]
  },
  {
   "cell_type": "code",
   "execution_count": 5,
   "metadata": {
    "colab": {
     "base_uri": "https://localhost:8080/",
     "height": 317
    },
    "id": "3honyMWN2aLr",
    "outputId": "275dbdf9-9e2c-4292-a1e6-0a26cf266191"
   },
   "outputs": [
    {
     "data": {
      "text/html": [
       "<div>\n",
       "<style scoped>\n",
       "    .dataframe tbody tr th:only-of-type {\n",
       "        vertical-align: middle;\n",
       "    }\n",
       "\n",
       "    .dataframe tbody tr th {\n",
       "        vertical-align: top;\n",
       "    }\n",
       "\n",
       "    .dataframe thead th {\n",
       "        text-align: right;\n",
       "    }\n",
       "</style>\n",
       "<table border=\"1\" class=\"dataframe\">\n",
       "  <thead>\n",
       "    <tr style=\"text-align: right;\">\n",
       "      <th></th>\n",
       "      <th>Unnamed: 0</th>\n",
       "      <th>ID</th>\n",
       "      <th>F2</th>\n",
       "      <th>F3</th>\n",
       "      <th>F4</th>\n",
       "      <th>F5</th>\n",
       "      <th>F6</th>\n",
       "      <th>F7</th>\n",
       "      <th>F8</th>\n",
       "      <th>F9</th>\n",
       "      <th>F10</th>\n",
       "      <th>F11</th>\n",
       "      <th>F12</th>\n",
       "      <th>F13</th>\n",
       "      <th>F14</th>\n",
       "      <th>F15</th>\n",
       "      <th>Value</th>\n",
       "    </tr>\n",
       "  </thead>\n",
       "  <tbody>\n",
       "    <tr>\n",
       "      <th>count</th>\n",
       "      <td>278236.000000</td>\n",
       "      <td>278236.000000</td>\n",
       "      <td>278236.000000</td>\n",
       "      <td>278236.000000</td>\n",
       "      <td>278236.000000</td>\n",
       "      <td>278236.000000</td>\n",
       "      <td>278236.000000</td>\n",
       "      <td>278236.000000</td>\n",
       "      <td>278236.000000</td>\n",
       "      <td>278236.000000</td>\n",
       "      <td>278236.000000</td>\n",
       "      <td>278236.000000</td>\n",
       "      <td>278236.000000</td>\n",
       "      <td>278236.000000</td>\n",
       "      <td>278236.000000</td>\n",
       "      <td>278236.000000</td>\n",
       "      <td>2.782360e+05</td>\n",
       "    </tr>\n",
       "    <tr>\n",
       "      <th>mean</th>\n",
       "      <td>394671.997254</td>\n",
       "      <td>394672.997254</td>\n",
       "      <td>36.800401</td>\n",
       "      <td>-81.788603</td>\n",
       "      <td>22.269169</td>\n",
       "      <td>0.010276</td>\n",
       "      <td>373.812955</td>\n",
       "      <td>670.471084</td>\n",
       "      <td>-1.751293</td>\n",
       "      <td>294.698662</td>\n",
       "      <td>14.796148</td>\n",
       "      <td>445.720166</td>\n",
       "      <td>96622.990512</td>\n",
       "      <td>96634.110702</td>\n",
       "      <td>0.010451</td>\n",
       "      <td>96634.110702</td>\n",
       "      <td>1.037856e+03</td>\n",
       "    </tr>\n",
       "    <tr>\n",
       "      <th>std</th>\n",
       "      <td>105467.708348</td>\n",
       "      <td>105467.708348</td>\n",
       "      <td>9.111459</td>\n",
       "      <td>40.789082</td>\n",
       "      <td>8.607790</td>\n",
       "      <td>0.004515</td>\n",
       "      <td>45.869090</td>\n",
       "      <td>190.091631</td>\n",
       "      <td>0.771562</td>\n",
       "      <td>8.197379</td>\n",
       "      <td>5.399802</td>\n",
       "      <td>506.725057</td>\n",
       "      <td>5475.575368</td>\n",
       "      <td>5401.860377</td>\n",
       "      <td>0.004610</td>\n",
       "      <td>5401.860377</td>\n",
       "      <td>1.264460e+04</td>\n",
       "    </tr>\n",
       "    <tr>\n",
       "      <th>min</th>\n",
       "      <td>3051.000000</td>\n",
       "      <td>3052.000000</td>\n",
       "      <td>-42.882100</td>\n",
       "      <td>-164.035400</td>\n",
       "      <td>-25.555700</td>\n",
       "      <td>0.000316</td>\n",
       "      <td>143.419500</td>\n",
       "      <td>3.923500</td>\n",
       "      <td>-10.923600</td>\n",
       "      <td>231.244900</td>\n",
       "      <td>6.592200</td>\n",
       "      <td>-1.696600</td>\n",
       "      <td>67185.384800</td>\n",
       "      <td>67160.147300</td>\n",
       "      <td>0.000063</td>\n",
       "      <td>67160.147300</td>\n",
       "      <td>1.000000e+00</td>\n",
       "    </tr>\n",
       "    <tr>\n",
       "      <th>25%</th>\n",
       "      <td>311686.500000</td>\n",
       "      <td>311687.500000</td>\n",
       "      <td>33.719000</td>\n",
       "      <td>-96.223200</td>\n",
       "      <td>16.460850</td>\n",
       "      <td>0.006448</td>\n",
       "      <td>340.538950</td>\n",
       "      <td>511.526625</td>\n",
       "      <td>-2.188500</td>\n",
       "      <td>289.258500</td>\n",
       "      <td>12.796000</td>\n",
       "      <td>135.425200</td>\n",
       "      <td>95668.107150</td>\n",
       "      <td>95799.816050</td>\n",
       "      <td>0.006471</td>\n",
       "      <td>95799.816050</td>\n",
       "      <td>6.000000e+00</td>\n",
       "    </tr>\n",
       "    <tr>\n",
       "      <th>50%</th>\n",
       "      <td>400429.500000</td>\n",
       "      <td>400430.500000</td>\n",
       "      <td>37.752200</td>\n",
       "      <td>-88.096700</td>\n",
       "      <td>23.522600</td>\n",
       "      <td>0.009891</td>\n",
       "      <td>377.185850</td>\n",
       "      <td>714.510950</td>\n",
       "      <td>-1.677700</td>\n",
       "      <td>295.860750</td>\n",
       "      <td>14.229600</td>\n",
       "      <td>284.922600</td>\n",
       "      <td>98326.517850</td>\n",
       "      <td>98328.924250</td>\n",
       "      <td>0.010195</td>\n",
       "      <td>98328.924250</td>\n",
       "      <td>2.900000e+01</td>\n",
       "    </tr>\n",
       "    <tr>\n",
       "      <th>75%</th>\n",
       "      <td>484108.250000</td>\n",
       "      <td>484109.250000</td>\n",
       "      <td>41.459900</td>\n",
       "      <td>-81.124900</td>\n",
       "      <td>28.931100</td>\n",
       "      <td>0.014019</td>\n",
       "      <td>410.339325</td>\n",
       "      <td>832.605625</td>\n",
       "      <td>-1.265100</td>\n",
       "      <td>301.029450</td>\n",
       "      <td>15.412300</td>\n",
       "      <td>506.630600</td>\n",
       "      <td>100064.056600</td>\n",
       "      <td>99921.871825</td>\n",
       "      <td>0.014407</td>\n",
       "      <td>99921.871825</td>\n",
       "      <td>1.510000e+02</td>\n",
       "    </tr>\n",
       "    <tr>\n",
       "      <th>max</th>\n",
       "      <td>566029.000000</td>\n",
       "      <td>566030.000000</td>\n",
       "      <td>71.706900</td>\n",
       "      <td>178.065000</td>\n",
       "      <td>49.630700</td>\n",
       "      <td>0.024560</td>\n",
       "      <td>541.365300</td>\n",
       "      <td>1212.071200</td>\n",
       "      <td>5.360300</td>\n",
       "      <td>322.377600</td>\n",
       "      <td>79.314600</td>\n",
       "      <td>3429.221100</td>\n",
       "      <td>104780.254600</td>\n",
       "      <td>103915.247100</td>\n",
       "      <td>0.023407</td>\n",
       "      <td>103915.247100</td>\n",
       "      <td>1.274974e+06</td>\n",
       "    </tr>\n",
       "  </tbody>\n",
       "</table>\n",
       "</div>"
      ],
      "text/plain": [
       "          Unnamed: 0             ID             F2             F3  \\\n",
       "count  278236.000000  278236.000000  278236.000000  278236.000000   \n",
       "mean   394671.997254  394672.997254      36.800401     -81.788603   \n",
       "std    105467.708348  105467.708348       9.111459      40.789082   \n",
       "min      3051.000000    3052.000000     -42.882100    -164.035400   \n",
       "25%    311686.500000  311687.500000      33.719000     -96.223200   \n",
       "50%    400429.500000  400430.500000      37.752200     -88.096700   \n",
       "75%    484108.250000  484109.250000      41.459900     -81.124900   \n",
       "max    566029.000000  566030.000000      71.706900     178.065000   \n",
       "\n",
       "                  F4             F5             F6             F7  \\\n",
       "count  278236.000000  278236.000000  278236.000000  278236.000000   \n",
       "mean       22.269169       0.010276     373.812955     670.471084   \n",
       "std         8.607790       0.004515      45.869090     190.091631   \n",
       "min       -25.555700       0.000316     143.419500       3.923500   \n",
       "25%        16.460850       0.006448     340.538950     511.526625   \n",
       "50%        23.522600       0.009891     377.185850     714.510950   \n",
       "75%        28.931100       0.014019     410.339325     832.605625   \n",
       "max        49.630700       0.024560     541.365300    1212.071200   \n",
       "\n",
       "                  F8             F9            F10            F11  \\\n",
       "count  278236.000000  278236.000000  278236.000000  278236.000000   \n",
       "mean       -1.751293     294.698662      14.796148     445.720166   \n",
       "std         0.771562       8.197379       5.399802     506.725057   \n",
       "min       -10.923600     231.244900       6.592200      -1.696600   \n",
       "25%        -2.188500     289.258500      12.796000     135.425200   \n",
       "50%        -1.677700     295.860750      14.229600     284.922600   \n",
       "75%        -1.265100     301.029450      15.412300     506.630600   \n",
       "max         5.360300     322.377600      79.314600    3429.221100   \n",
       "\n",
       "                 F12            F13            F14            F15  \\\n",
       "count  278236.000000  278236.000000  278236.000000  278236.000000   \n",
       "mean    96622.990512   96634.110702       0.010451   96634.110702   \n",
       "std      5475.575368    5401.860377       0.004610    5401.860377   \n",
       "min     67185.384800   67160.147300       0.000063   67160.147300   \n",
       "25%     95668.107150   95799.816050       0.006471   95799.816050   \n",
       "50%     98326.517850   98328.924250       0.010195   98328.924250   \n",
       "75%    100064.056600   99921.871825       0.014407   99921.871825   \n",
       "max    104780.254600  103915.247100       0.023407  103915.247100   \n",
       "\n",
       "              Value  \n",
       "count  2.782360e+05  \n",
       "mean   1.037856e+03  \n",
       "std    1.264460e+04  \n",
       "min    1.000000e+00  \n",
       "25%    6.000000e+00  \n",
       "50%    2.900000e+01  \n",
       "75%    1.510000e+02  \n",
       "max    1.274974e+06  "
      ]
     },
     "execution_count": 5,
     "metadata": {},
     "output_type": "execute_result"
    }
   ],
   "source": [
    "df.describe()"
   ]
  },
  {
   "cell_type": "code",
   "execution_count": 6,
   "metadata": {
    "colab": {
     "base_uri": "https://localhost:8080/"
    },
    "id": "ypaQRqcC3LyV",
    "outputId": "f02d559e-29c8-43bb-a593-e56e0f508d40"
   },
   "outputs": [
    {
     "data": {
      "text/plain": [
       "0            1\n",
       "1            1\n",
       "2           14\n",
       "3            6\n",
       "4            1\n",
       "          ... \n",
       "278231      82\n",
       "278232    1808\n",
       "278233    4173\n",
       "278234    1922\n",
       "278235    8606\n",
       "Name: Value, Length: 278236, dtype: int64"
      ]
     },
     "execution_count": 6,
     "metadata": {},
     "output_type": "execute_result"
    }
   ],
   "source": [
    "df.Value"
   ]
  },
  {
   "cell_type": "code",
   "execution_count": 7,
   "metadata": {
    "id": "VZbh0K9d3PFP"
   },
   "outputs": [],
   "source": [
    "df.drop(columns='F1', inplace=True)"
   ]
  },
  {
   "cell_type": "code",
   "execution_count": 8,
   "metadata": {
    "colab": {
     "base_uri": "https://localhost:8080/",
     "height": 204
    },
    "id": "i1LZuKoa4F_C",
    "outputId": "1a75e3e0-4a23-49b0-abce-b702ed8bbd63"
   },
   "outputs": [
    {
     "data": {
      "text/html": [
       "<div>\n",
       "<style scoped>\n",
       "    .dataframe tbody tr th:only-of-type {\n",
       "        vertical-align: middle;\n",
       "    }\n",
       "\n",
       "    .dataframe tbody tr th {\n",
       "        vertical-align: top;\n",
       "    }\n",
       "\n",
       "    .dataframe thead th {\n",
       "        text-align: right;\n",
       "    }\n",
       "</style>\n",
       "<table border=\"1\" class=\"dataframe\">\n",
       "  <thead>\n",
       "    <tr style=\"text-align: right;\">\n",
       "      <th></th>\n",
       "      <th>Unnamed: 0</th>\n",
       "      <th>ID</th>\n",
       "      <th>F2</th>\n",
       "      <th>F3</th>\n",
       "      <th>F4</th>\n",
       "      <th>F5</th>\n",
       "      <th>F6</th>\n",
       "      <th>F7</th>\n",
       "      <th>F8</th>\n",
       "      <th>F9</th>\n",
       "      <th>F10</th>\n",
       "      <th>F11</th>\n",
       "      <th>F12</th>\n",
       "      <th>F13</th>\n",
       "      <th>F14</th>\n",
       "      <th>F15</th>\n",
       "      <th>Value</th>\n",
       "    </tr>\n",
       "  </thead>\n",
       "  <tbody>\n",
       "    <tr>\n",
       "      <th>0</th>\n",
       "      <td>3051</td>\n",
       "      <td>3052</td>\n",
       "      <td>47.4914</td>\n",
       "      <td>-121.8346</td>\n",
       "      <td>4.6849</td>\n",
       "      <td>0.004741</td>\n",
       "      <td>305.8819</td>\n",
       "      <td>305.5443</td>\n",
       "      <td>-1.6057</td>\n",
       "      <td>275.9406</td>\n",
       "      <td>35.1916</td>\n",
       "      <td>1044.5486</td>\n",
       "      <td>90351.2768</td>\n",
       "      <td>90288.1143</td>\n",
       "      <td>0.004573</td>\n",
       "      <td>90288.1143</td>\n",
       "      <td>1</td>\n",
       "    </tr>\n",
       "    <tr>\n",
       "      <th>1</th>\n",
       "      <td>3389</td>\n",
       "      <td>3390</td>\n",
       "      <td>31.8257</td>\n",
       "      <td>117.2264</td>\n",
       "      <td>1.3147</td>\n",
       "      <td>0.004022</td>\n",
       "      <td>313.3366</td>\n",
       "      <td>286.8496</td>\n",
       "      <td>-1.8308</td>\n",
       "      <td>281.6387</td>\n",
       "      <td>24.9399</td>\n",
       "      <td>309.8847</td>\n",
       "      <td>98497.8600</td>\n",
       "      <td>98975.0940</td>\n",
       "      <td>0.004071</td>\n",
       "      <td>98975.0940</td>\n",
       "      <td>1</td>\n",
       "    </tr>\n",
       "    <tr>\n",
       "      <th>2</th>\n",
       "      <td>3390</td>\n",
       "      <td>3391</td>\n",
       "      <td>40.1824</td>\n",
       "      <td>116.4142</td>\n",
       "      <td>0.9599</td>\n",
       "      <td>0.004042</td>\n",
       "      <td>310.4150</td>\n",
       "      <td>355.6478</td>\n",
       "      <td>-1.0110</td>\n",
       "      <td>283.7595</td>\n",
       "      <td>36.3201</td>\n",
       "      <td>314.4100</td>\n",
       "      <td>98271.7222</td>\n",
       "      <td>98835.0176</td>\n",
       "      <td>0.003854</td>\n",
       "      <td>98835.0176</td>\n",
       "      <td>14</td>\n",
       "    </tr>\n",
       "    <tr>\n",
       "      <th>3</th>\n",
       "      <td>3391</td>\n",
       "      <td>3392</td>\n",
       "      <td>30.0572</td>\n",
       "      <td>107.8740</td>\n",
       "      <td>6.9995</td>\n",
       "      <td>0.005700</td>\n",
       "      <td>325.5123</td>\n",
       "      <td>413.2223</td>\n",
       "      <td>-2.1141</td>\n",
       "      <td>282.6847</td>\n",
       "      <td>14.9820</td>\n",
       "      <td>515.6411</td>\n",
       "      <td>95626.8403</td>\n",
       "      <td>96287.3399</td>\n",
       "      <td>0.002510</td>\n",
       "      <td>96287.3399</td>\n",
       "      <td>6</td>\n",
       "    </tr>\n",
       "    <tr>\n",
       "      <th>4</th>\n",
       "      <td>3392</td>\n",
       "      <td>3393</td>\n",
       "      <td>26.0789</td>\n",
       "      <td>117.9874</td>\n",
       "      <td>7.3174</td>\n",
       "      <td>0.005321</td>\n",
       "      <td>325.3152</td>\n",
       "      <td>515.3695</td>\n",
       "      <td>-1.7381</td>\n",
       "      <td>284.0376</td>\n",
       "      <td>14.4931</td>\n",
       "      <td>590.4265</td>\n",
       "      <td>94457.6359</td>\n",
       "      <td>95359.5988</td>\n",
       "      <td>0.006967</td>\n",
       "      <td>95359.5988</td>\n",
       "      <td>1</td>\n",
       "    </tr>\n",
       "  </tbody>\n",
       "</table>\n",
       "</div>"
      ],
      "text/plain": [
       "   Unnamed: 0    ID       F2        F3      F4        F5        F6        F7  \\\n",
       "0        3051  3052  47.4914 -121.8346  4.6849  0.004741  305.8819  305.5443   \n",
       "1        3389  3390  31.8257  117.2264  1.3147  0.004022  313.3366  286.8496   \n",
       "2        3390  3391  40.1824  116.4142  0.9599  0.004042  310.4150  355.6478   \n",
       "3        3391  3392  30.0572  107.8740  6.9995  0.005700  325.5123  413.2223   \n",
       "4        3392  3393  26.0789  117.9874  7.3174  0.005321  325.3152  515.3695   \n",
       "\n",
       "       F8        F9      F10        F11         F12         F13       F14  \\\n",
       "0 -1.6057  275.9406  35.1916  1044.5486  90351.2768  90288.1143  0.004573   \n",
       "1 -1.8308  281.6387  24.9399   309.8847  98497.8600  98975.0940  0.004071   \n",
       "2 -1.0110  283.7595  36.3201   314.4100  98271.7222  98835.0176  0.003854   \n",
       "3 -2.1141  282.6847  14.9820   515.6411  95626.8403  96287.3399  0.002510   \n",
       "4 -1.7381  284.0376  14.4931   590.4265  94457.6359  95359.5988  0.006967   \n",
       "\n",
       "          F15  Value  \n",
       "0  90288.1143      1  \n",
       "1  98975.0940      1  \n",
       "2  98835.0176     14  \n",
       "3  96287.3399      6  \n",
       "4  95359.5988      1  "
      ]
     },
     "execution_count": 8,
     "metadata": {},
     "output_type": "execute_result"
    }
   ],
   "source": [
    "df.head()"
   ]
  },
  {
   "cell_type": "code",
   "execution_count": 9,
   "metadata": {
    "id": "OLdk_kmH4iJB"
   },
   "outputs": [],
   "source": [
    "df.drop(columns='ID', inplace=True)"
   ]
  },
  {
   "cell_type": "code",
   "execution_count": 10,
   "metadata": {
    "colab": {
     "base_uri": "https://localhost:8080/",
     "height": 204
    },
    "id": "A-gYLsfi4rWJ",
    "outputId": "91cfbbf5-d05c-4162-bbaa-f1de2c2e8940"
   },
   "outputs": [
    {
     "data": {
      "text/html": [
       "<div>\n",
       "<style scoped>\n",
       "    .dataframe tbody tr th:only-of-type {\n",
       "        vertical-align: middle;\n",
       "    }\n",
       "\n",
       "    .dataframe tbody tr th {\n",
       "        vertical-align: top;\n",
       "    }\n",
       "\n",
       "    .dataframe thead th {\n",
       "        text-align: right;\n",
       "    }\n",
       "</style>\n",
       "<table border=\"1\" class=\"dataframe\">\n",
       "  <thead>\n",
       "    <tr style=\"text-align: right;\">\n",
       "      <th></th>\n",
       "      <th>Unnamed: 0</th>\n",
       "      <th>F2</th>\n",
       "      <th>F3</th>\n",
       "      <th>F4</th>\n",
       "      <th>F5</th>\n",
       "      <th>F6</th>\n",
       "      <th>F7</th>\n",
       "      <th>F8</th>\n",
       "      <th>F9</th>\n",
       "      <th>F10</th>\n",
       "      <th>F11</th>\n",
       "      <th>F12</th>\n",
       "      <th>F13</th>\n",
       "      <th>F14</th>\n",
       "      <th>F15</th>\n",
       "      <th>Value</th>\n",
       "    </tr>\n",
       "  </thead>\n",
       "  <tbody>\n",
       "    <tr>\n",
       "      <th>0</th>\n",
       "      <td>3051</td>\n",
       "      <td>47.4914</td>\n",
       "      <td>-121.8346</td>\n",
       "      <td>4.6849</td>\n",
       "      <td>0.004741</td>\n",
       "      <td>305.8819</td>\n",
       "      <td>305.5443</td>\n",
       "      <td>-1.6057</td>\n",
       "      <td>275.9406</td>\n",
       "      <td>35.1916</td>\n",
       "      <td>1044.5486</td>\n",
       "      <td>90351.2768</td>\n",
       "      <td>90288.1143</td>\n",
       "      <td>0.004573</td>\n",
       "      <td>90288.1143</td>\n",
       "      <td>1</td>\n",
       "    </tr>\n",
       "    <tr>\n",
       "      <th>1</th>\n",
       "      <td>3389</td>\n",
       "      <td>31.8257</td>\n",
       "      <td>117.2264</td>\n",
       "      <td>1.3147</td>\n",
       "      <td>0.004022</td>\n",
       "      <td>313.3366</td>\n",
       "      <td>286.8496</td>\n",
       "      <td>-1.8308</td>\n",
       "      <td>281.6387</td>\n",
       "      <td>24.9399</td>\n",
       "      <td>309.8847</td>\n",
       "      <td>98497.8600</td>\n",
       "      <td>98975.0940</td>\n",
       "      <td>0.004071</td>\n",
       "      <td>98975.0940</td>\n",
       "      <td>1</td>\n",
       "    </tr>\n",
       "    <tr>\n",
       "      <th>2</th>\n",
       "      <td>3390</td>\n",
       "      <td>40.1824</td>\n",
       "      <td>116.4142</td>\n",
       "      <td>0.9599</td>\n",
       "      <td>0.004042</td>\n",
       "      <td>310.4150</td>\n",
       "      <td>355.6478</td>\n",
       "      <td>-1.0110</td>\n",
       "      <td>283.7595</td>\n",
       "      <td>36.3201</td>\n",
       "      <td>314.4100</td>\n",
       "      <td>98271.7222</td>\n",
       "      <td>98835.0176</td>\n",
       "      <td>0.003854</td>\n",
       "      <td>98835.0176</td>\n",
       "      <td>14</td>\n",
       "    </tr>\n",
       "    <tr>\n",
       "      <th>3</th>\n",
       "      <td>3391</td>\n",
       "      <td>30.0572</td>\n",
       "      <td>107.8740</td>\n",
       "      <td>6.9995</td>\n",
       "      <td>0.005700</td>\n",
       "      <td>325.5123</td>\n",
       "      <td>413.2223</td>\n",
       "      <td>-2.1141</td>\n",
       "      <td>282.6847</td>\n",
       "      <td>14.9820</td>\n",
       "      <td>515.6411</td>\n",
       "      <td>95626.8403</td>\n",
       "      <td>96287.3399</td>\n",
       "      <td>0.002510</td>\n",
       "      <td>96287.3399</td>\n",
       "      <td>6</td>\n",
       "    </tr>\n",
       "    <tr>\n",
       "      <th>4</th>\n",
       "      <td>3392</td>\n",
       "      <td>26.0789</td>\n",
       "      <td>117.9874</td>\n",
       "      <td>7.3174</td>\n",
       "      <td>0.005321</td>\n",
       "      <td>325.3152</td>\n",
       "      <td>515.3695</td>\n",
       "      <td>-1.7381</td>\n",
       "      <td>284.0376</td>\n",
       "      <td>14.4931</td>\n",
       "      <td>590.4265</td>\n",
       "      <td>94457.6359</td>\n",
       "      <td>95359.5988</td>\n",
       "      <td>0.006967</td>\n",
       "      <td>95359.5988</td>\n",
       "      <td>1</td>\n",
       "    </tr>\n",
       "  </tbody>\n",
       "</table>\n",
       "</div>"
      ],
      "text/plain": [
       "   Unnamed: 0       F2        F3      F4        F5        F6        F7  \\\n",
       "0        3051  47.4914 -121.8346  4.6849  0.004741  305.8819  305.5443   \n",
       "1        3389  31.8257  117.2264  1.3147  0.004022  313.3366  286.8496   \n",
       "2        3390  40.1824  116.4142  0.9599  0.004042  310.4150  355.6478   \n",
       "3        3391  30.0572  107.8740  6.9995  0.005700  325.5123  413.2223   \n",
       "4        3392  26.0789  117.9874  7.3174  0.005321  325.3152  515.3695   \n",
       "\n",
       "       F8        F9      F10        F11         F12         F13       F14  \\\n",
       "0 -1.6057  275.9406  35.1916  1044.5486  90351.2768  90288.1143  0.004573   \n",
       "1 -1.8308  281.6387  24.9399   309.8847  98497.8600  98975.0940  0.004071   \n",
       "2 -1.0110  283.7595  36.3201   314.4100  98271.7222  98835.0176  0.003854   \n",
       "3 -2.1141  282.6847  14.9820   515.6411  95626.8403  96287.3399  0.002510   \n",
       "4 -1.7381  284.0376  14.4931   590.4265  94457.6359  95359.5988  0.006967   \n",
       "\n",
       "          F15  Value  \n",
       "0  90288.1143      1  \n",
       "1  98975.0940      1  \n",
       "2  98835.0176     14  \n",
       "3  96287.3399      6  \n",
       "4  95359.5988      1  "
      ]
     },
     "execution_count": 10,
     "metadata": {},
     "output_type": "execute_result"
    }
   ],
   "source": [
    "df.head()"
   ]
  },
  {
   "cell_type": "code",
   "execution_count": null,
   "metadata": {
    "colab": {
     "base_uri": "https://localhost:8080/",
     "height": 583
    },
    "id": "6V3eCwwB4sZR",
    "outputId": "401647bd-814a-4281-cbb2-09f77dfa6883"
   },
   "outputs": [
    {
     "data": {
      "text/plain": [
       "array([[<matplotlib.axes._subplots.AxesSubplot object at 0x7fc9df4e2890>,\n",
       "        <matplotlib.axes._subplots.AxesSubplot object at 0x7fc9df51bb50>,\n",
       "        <matplotlib.axes._subplots.AxesSubplot object at 0x7fc9df476710>,\n",
       "        <matplotlib.axes._subplots.AxesSubplot object at 0x7fc9df429d90>],\n",
       "       [<matplotlib.axes._subplots.AxesSubplot object at 0x7fc9df3ee450>,\n",
       "        <matplotlib.axes._subplots.AxesSubplot object at 0x7fc9df3a3ad0>,\n",
       "        <matplotlib.axes._subplots.AxesSubplot object at 0x7fc9df364210>,\n",
       "        <matplotlib.axes._subplots.AxesSubplot object at 0x7fc9df3987d0>],\n",
       "       [<matplotlib.axes._subplots.AxesSubplot object at 0x7fc9df398810>,\n",
       "        <matplotlib.axes._subplots.AxesSubplot object at 0x7fc9df34ef90>,\n",
       "        <matplotlib.axes._subplots.AxesSubplot object at 0x7fc9df2c5bd0>,\n",
       "        <matplotlib.axes._subplots.AxesSubplot object at 0x7fc9df288290>],\n",
       "       [<matplotlib.axes._subplots.AxesSubplot object at 0x7fc9df23d910>,\n",
       "        <matplotlib.axes._subplots.AxesSubplot object at 0x7fc9df1f2f90>,\n",
       "        <matplotlib.axes._subplots.AxesSubplot object at 0x7fc9df1b5650>,\n",
       "        <matplotlib.axes._subplots.AxesSubplot object at 0x7fc9df16acd0>]],\n",
       "      dtype=object)"
      ]
     },
     "execution_count": 12,
     "metadata": {
      "tags": []
     },
     "output_type": "execute_result"
    },
    {
     "data": {
      "image/png": "[encoded data removed]",
      "text/plain": [
       "<Figure size 432x288 with 16 Axes>"
      ]
     },
     "metadata": {
      "needs_background": "light",
      "tags": []
     },
     "output_type": "display_data"
    }
   ],
   "source": [
    "df.hist()"
   ]
  },
  {
   "cell_type": "code",
   "execution_count": 11,
   "metadata": {
    "id": "AIR4j7P249Cf"
   },
   "outputs": [],
   "source": [
    "X=df.drop(columns='Value')"
   ]
  },
  {
   "cell_type": "code",
   "execution_count": 12,
   "metadata": {
    "colab": {
     "base_uri": "https://localhost:8080/",
     "height": 204
    },
    "id": "f3BPpeDC5a0z",
    "outputId": "019f95bf-b12c-43c2-b97e-ec8f421bc426"
   },
   "outputs": [
    {
     "data": {
      "text/html": [
       "<div>\n",
       "<style scoped>\n",
       "    .dataframe tbody tr th:only-of-type {\n",
       "        vertical-align: middle;\n",
       "    }\n",
       "\n",
       "    .dataframe tbody tr th {\n",
       "        vertical-align: top;\n",
       "    }\n",
       "\n",
       "    .dataframe thead th {\n",
       "        text-align: right;\n",
       "    }\n",
       "</style>\n",
       "<table border=\"1\" class=\"dataframe\">\n",
       "  <thead>\n",
       "    <tr style=\"text-align: right;\">\n",
       "      <th></th>\n",
       "      <th>Unnamed: 0</th>\n",
       "      <th>F2</th>\n",
       "      <th>F3</th>\n",
       "      <th>F4</th>\n",
       "      <th>F5</th>\n",
       "      <th>F6</th>\n",
       "      <th>F7</th>\n",
       "      <th>F8</th>\n",
       "      <th>F9</th>\n",
       "      <th>F10</th>\n",
       "      <th>F11</th>\n",
       "      <th>F12</th>\n",
       "      <th>F13</th>\n",
       "      <th>F14</th>\n",
       "      <th>F15</th>\n",
       "    </tr>\n",
       "  </thead>\n",
       "  <tbody>\n",
       "    <tr>\n",
       "      <th>0</th>\n",
       "      <td>3051</td>\n",
       "      <td>47.4914</td>\n",
       "      <td>-121.8346</td>\n",
       "      <td>4.6849</td>\n",
       "      <td>0.004741</td>\n",
       "      <td>305.8819</td>\n",
       "      <td>305.5443</td>\n",
       "      <td>-1.6057</td>\n",
       "      <td>275.9406</td>\n",
       "      <td>35.1916</td>\n",
       "      <td>1044.5486</td>\n",
       "      <td>90351.2768</td>\n",
       "      <td>90288.1143</td>\n",
       "      <td>0.004573</td>\n",
       "      <td>90288.1143</td>\n",
       "    </tr>\n",
       "    <tr>\n",
       "      <th>1</th>\n",
       "      <td>3389</td>\n",
       "      <td>31.8257</td>\n",
       "      <td>117.2264</td>\n",
       "      <td>1.3147</td>\n",
       "      <td>0.004022</td>\n",
       "      <td>313.3366</td>\n",
       "      <td>286.8496</td>\n",
       "      <td>-1.8308</td>\n",
       "      <td>281.6387</td>\n",
       "      <td>24.9399</td>\n",
       "      <td>309.8847</td>\n",
       "      <td>98497.8600</td>\n",
       "      <td>98975.0940</td>\n",
       "      <td>0.004071</td>\n",
       "      <td>98975.0940</td>\n",
       "    </tr>\n",
       "    <tr>\n",
       "      <th>2</th>\n",
       "      <td>3390</td>\n",
       "      <td>40.1824</td>\n",
       "      <td>116.4142</td>\n",
       "      <td>0.9599</td>\n",
       "      <td>0.004042</td>\n",
       "      <td>310.4150</td>\n",
       "      <td>355.6478</td>\n",
       "      <td>-1.0110</td>\n",
       "      <td>283.7595</td>\n",
       "      <td>36.3201</td>\n",
       "      <td>314.4100</td>\n",
       "      <td>98271.7222</td>\n",
       "      <td>98835.0176</td>\n",
       "      <td>0.003854</td>\n",
       "      <td>98835.0176</td>\n",
       "    </tr>\n",
       "    <tr>\n",
       "      <th>3</th>\n",
       "      <td>3391</td>\n",
       "      <td>30.0572</td>\n",
       "      <td>107.8740</td>\n",
       "      <td>6.9995</td>\n",
       "      <td>0.005700</td>\n",
       "      <td>325.5123</td>\n",
       "      <td>413.2223</td>\n",
       "      <td>-2.1141</td>\n",
       "      <td>282.6847</td>\n",
       "      <td>14.9820</td>\n",
       "      <td>515.6411</td>\n",
       "      <td>95626.8403</td>\n",
       "      <td>96287.3399</td>\n",
       "      <td>0.002510</td>\n",
       "      <td>96287.3399</td>\n",
       "    </tr>\n",
       "    <tr>\n",
       "      <th>4</th>\n",
       "      <td>3392</td>\n",
       "      <td>26.0789</td>\n",
       "      <td>117.9874</td>\n",
       "      <td>7.3174</td>\n",
       "      <td>0.005321</td>\n",
       "      <td>325.3152</td>\n",
       "      <td>515.3695</td>\n",
       "      <td>-1.7381</td>\n",
       "      <td>284.0376</td>\n",
       "      <td>14.4931</td>\n",
       "      <td>590.4265</td>\n",
       "      <td>94457.6359</td>\n",
       "      <td>95359.5988</td>\n",
       "      <td>0.006967</td>\n",
       "      <td>95359.5988</td>\n",
       "    </tr>\n",
       "  </tbody>\n",
       "</table>\n",
       "</div>"
      ],
      "text/plain": [
       "   Unnamed: 0       F2        F3      F4        F5        F6        F7  \\\n",
       "0        3051  47.4914 -121.8346  4.6849  0.004741  305.8819  305.5443   \n",
       "1        3389  31.8257  117.2264  1.3147  0.004022  313.3366  286.8496   \n",
       "2        3390  40.1824  116.4142  0.9599  0.004042  310.4150  355.6478   \n",
       "3        3391  30.0572  107.8740  6.9995  0.005700  325.5123  413.2223   \n",
       "4        3392  26.0789  117.9874  7.3174  0.005321  325.3152  515.3695   \n",
       "\n",
       "       F8        F9      F10        F11         F12         F13       F14  \\\n",
       "0 -1.6057  275.9406  35.1916  1044.5486  90351.2768  90288.1143  0.004573   \n",
       "1 -1.8308  281.6387  24.9399   309.8847  98497.8600  98975.0940  0.004071   \n",
       "2 -1.0110  283.7595  36.3201   314.4100  98271.7222  98835.0176  0.003854   \n",
       "3 -2.1141  282.6847  14.9820   515.6411  95626.8403  96287.3399  0.002510   \n",
       "4 -1.7381  284.0376  14.4931   590.4265  94457.6359  95359.5988  0.006967   \n",
       "\n",
       "          F15  \n",
       "0  90288.1143  \n",
       "1  98975.0940  \n",
       "2  98835.0176  \n",
       "3  96287.3399  \n",
       "4  95359.5988  "
      ]
     },
     "execution_count": 12,
     "metadata": {},
     "output_type": "execute_result"
    }
   ],
   "source": [
    "X.head()"
   ]
  },
  {
   "cell_type": "code",
   "execution_count": 13,
   "metadata": {
    "id": "pUh_GOaS5b1E"
   },
   "outputs": [],
   "source": [
    "Y=df.Value"
   ]
  },
  {
   "cell_type": "code",
   "execution_count": 14,
   "metadata": {
    "colab": {
     "base_uri": "https://localhost:8080/"
    },
    "id": "8T-tULTQ5gaz",
    "outputId": "8d59402a-ebe8-4c2a-9262-c9989525fb38"
   },
   "outputs": [
    {
     "data": {
      "text/plain": [
       "0     1\n",
       "1     1\n",
       "2    14\n",
       "3     6\n",
       "4     1\n",
       "Name: Value, dtype: int64"
      ]
     },
     "execution_count": 14,
     "metadata": {},
     "output_type": "execute_result"
    }
   ],
   "source": [
    "Y.head()"
   ]
  },
  {
   "cell_type": "code",
   "execution_count": 15,
   "metadata": {
    "id": "oyUDDZ4M5hcB"
   },
   "outputs": [],
   "source": [
    "from sklearn.preprocessing import normalize"
   ]
  },
  {
   "cell_type": "code",
   "execution_count": 16,
   "metadata": {
    "id": "h-a10dYI5zn2"
   },
   "outputs": [],
   "source": [
    "X_norm= normalize(X , axis=0)"
   ]
  },
  {
   "cell_type": "code",
   "execution_count": 17,
   "metadata": {
    "id": "flBRpmKc6igy"
   },
   "outputs": [],
   "source": [
    "from sklearn.model_selection import train_test_split\n",
    "X_train , X_test , y_train , y_test = train_test_split(X_norm,Y)"
   ]
  },
  {
   "cell_type": "code",
   "execution_count": 18,
   "metadata": {
    "colab": {
     "base_uri": "https://localhost:8080/"
    },
    "id": "_ngMh9g460p_",
    "outputId": "9af53dd4-e642-44c4-c21c-0330577ca7db"
   },
   "outputs": [
    {
     "data": {
      "text/plain": [
       "True"
      ]
     },
     "execution_count": 18,
     "metadata": {},
     "output_type": "execute_result"
    }
   ],
   "source": [
    "len(X_train)== len(y_train)"
   ]
  },
  {
   "cell_type": "code",
   "execution_count": 19,
   "metadata": {
    "colab": {
     "base_uri": "https://localhost:8080/"
    },
    "id": "ZsRNWbdh7luo",
    "outputId": "6e35e6d7-c8f4-4aee-921d-b24f68fd508a"
   },
   "outputs": [
    {
     "data": {
      "text/plain": [
       "0.3333333333333333"
      ]
     },
     "execution_count": 19,
     "metadata": {},
     "output_type": "execute_result"
    }
   ],
   "source": [
    "len(y_test)/ len(X_train)"
   ]
  },
  {
   "cell_type": "code",
   "execution_count": 20,
   "metadata": {
    "id": "X9lLZCRq7rsS"
   },
   "outputs": [],
   "source": [
    "from sklearn.linear_model import LinearRegression"
   ]
  },
  {
   "cell_type": "code",
   "execution_count": 21,
   "metadata": {
    "colab": {
     "base_uri": "https://localhost:8080/"
    },
    "id": "FRBPVkZT7_i7",
    "outputId": "1d25157b-3def-446e-c92d-cfca2092be77"
   },
   "outputs": [
    {
     "data": {
      "text/plain": [
       "LinearRegression()"
      ]
     },
     "execution_count": 21,
     "metadata": {},
     "output_type": "execute_result"
    }
   ],
   "source": [
    "tmp_model=LinearRegression()\n",
    "tmp_model.fit(X= X_train, y= y_train) \n",
    "#tmp_model.evaluate(X_test,y_test)"
   ]
  },
  {
   "cell_type": "code",
   "execution_count": 22,
   "metadata": {
    "colab": {
     "base_uri": "https://localhost:8080/"
    },
    "id": "Gpo_5TIU8Jru",
    "outputId": "b80a98e1-8d02-482d-9653-44b51105842d"
   },
   "outputs": [
    {
     "data": {
      "text/plain": [
       "0.015185804692479543"
      ]
     },
     "execution_count": 22,
     "metadata": {},
     "output_type": "execute_result"
    }
   ],
   "source": [
    "tmp_model.score(X_test,y_test )"
   ]
  },
  {
   "cell_type": "code",
   "execution_count": 23,
   "metadata": {
    "id": "1O8nJh7o91FX"
   },
   "outputs": [],
   "source": [
    "from sklearn.ensemble import RandomForestRegressor"
   ]
  },
  {
   "cell_type": "code",
   "execution_count": 24,
   "metadata": {
    "colab": {
     "base_uri": "https://localhost:8080/"
    },
    "id": "4eN0pjAE-hIi",
    "outputId": "03afa9d0-37e1-4ee5-cc97-626534565fa0"
   },
   "outputs": [
    {
     "data": {
      "text/plain": [
       "RandomForestRegressor(n_estimators=20)"
      ]
     },
     "execution_count": 24,
     "metadata": {},
     "output_type": "execute_result"
    }
   ],
   "source": [
    "forest= RandomForestRegressor(20)\n",
    "forest.fit(X= X_train, y= y_train) "
   ]
  },
  {
   "cell_type": "code",
   "execution_count": 25,
   "metadata": {
    "colab": {
     "base_uri": "https://localhost:8080/"
    },
    "id": "Kxxsenbn-_4S",
    "outputId": "32c7a34f-e372-455c-f3b8-f2d2277ab596"
   },
   "outputs": [
    {
     "data": {
      "text/plain": [
       "0.9920629623466443"
      ]
     },
     "execution_count": 25,
     "metadata": {},
     "output_type": "execute_result"
    }
   ],
   "source": [
    "forest.score(X_test,y_test)"
   ]
  },
  {
   "cell_type": "markdown",
   "metadata": {
    "id": "iYxL4KAIAP24"
   },
   "source": [
    "# using clustering methods to cluster the output into 3 categories"
   ]
  },
  {
   "cell_type": "code",
   "execution_count": 26,
   "metadata": {
    "id": "iY0aOkjb_0m8"
   },
   "outputs": [],
   "source": [
    "from sklearn.cluster import KMeans\n",
    "from sklearn.decomposition import PCA"
   ]
  },
  {
   "cell_type": "code",
   "execution_count": 27,
   "metadata": {
    "colab": {
     "base_uri": "https://localhost:8080/"
    },
    "id": "yArqdxZyAnEx",
    "outputId": "40256b90-64a1-4a17-8945-c39d48cc0730"
   },
   "outputs": [
    {
     "data": {
      "text/plain": [
       "KMeans(n_clusters=3)"
      ]
     },
     "execution_count": 27,
     "metadata": {},
     "output_type": "execute_result"
    }
   ],
   "source": [
    "data_pca=PCA(3).fit(X_train)\n",
    "clusters=KMeans(3)\n",
    "clusters.fit(data_pca.transform(X_train))"
   ]
  },
  {
   "cell_type": "code",
   "execution_count": 29,
   "metadata": {
    "id": "vb2K5s2EA328"
   },
   "outputs": [],
   "source": [
    "xlabels= clusters.predict(data_pca.transform(X_test))"
   ]
  },
  {
   "cell_type": "code",
   "execution_count": 30,
   "metadata": {
    "colab": {
     "base_uri": "https://localhost:8080/"
    },
    "id": "YNTTqYiNBlOb",
    "outputId": "7d2a0bef-d0f9-4201-f3ad-680fd2048bdf"
   },
   "outputs": [
    {
     "data": {
      "text/plain": [
       "array([2, 1, 1, ..., 0, 0, 2])"
      ]
     },
     "execution_count": 30,
     "metadata": {},
     "output_type": "execute_result"
    }
   ],
   "source": [
    "xlabels"
   ]
  },
  {
   "cell_type": "code",
   "execution_count": 32,
   "metadata": {
    "colab": {
     "base_uri": "https://localhost:8080/",
     "height": 265
    },
    "id": "eNLmeD67BVnB",
    "outputId": "5941c013-7e03-41ae-9394-092370fc2f33"
   },
   "outputs": [
    {
     "data": {
      "image/png": "[encoded data removed]",
      "text/plain": [
       "<Figure size 432x288 with 1 Axes>"
      ]
     },
     "metadata": {
      "needs_background": "light"
     },
     "output_type": "display_data"
    }
   ],
   "source": [
    "#Getting unique labels\n",
    " \n",
    "u_labels = np.unique(xlabels)\n",
    " \n",
    "#plotting the results:\n",
    " \n",
    "for i in u_labels:\n",
    "    plt.scatter( X_test[xlabels == i] , X_test[xlabels == i ] , label = i )\n",
    "plt.legend()\n",
    "plt.show()"
   ]
  },
  {
   "cell_type": "markdown",
   "metadata": {
    "id": "fV_WOYaEDney"
   },
   "source": [
    "# Classification based on deviding the output range into 3 parts"
   ]
  },
  {
   "cell_type": "code",
   "execution_count": 34,
   "metadata": {
    "id": "KbsJUWzsDtaP"
   },
   "outputs": [],
   "source": [
    "yt_cat= pd.qcut( y_train , q=3 , duplicates='drop', labels=[0,1,2] ) #, labels=['low','medium','high'] )\n",
    "ys_cat=pd.qcut( y_test , q=3 , duplicates='drop', labels=[0,1,2] )"
   ]
  },
  {
   "cell_type": "code",
   "execution_count": 35,
   "metadata": {
    "colab": {
     "base_uri": "https://localhost:8080/"
    },
    "id": "kVAfLtz5EIAX",
    "outputId": "66b475ca-f06a-4f5d-ce1e-be9d670a7614"
   },
   "outputs": [
    {
     "data": {
      "text/plain": [
       "154397    0\n",
       "249395    1\n",
       "156335    0\n",
       "201741    2\n",
       "235477    2\n",
       "         ..\n",
       "248028    1\n",
       "145994    2\n",
       "160431    1\n",
       "58159     1\n",
       "13948     2\n",
       "Name: Value, Length: 208677, dtype: category\n",
       "Categories (3, int64): [0 < 1 < 2]"
      ]
     },
     "execution_count": 35,
     "metadata": {},
     "output_type": "execute_result"
    }
   ],
   "source": [
    "yt_cat # y train"
   ]
  },
  {
   "cell_type": "code",
   "execution_count": 36,
   "metadata": {
    "colab": {
     "base_uri": "https://localhost:8080/"
    },
    "id": "IUgfqp-3GZFo",
    "outputId": "cd46bacb-f584-4f5a-ac67-4a989d59082e"
   },
   "outputs": [
    {
     "data": {
      "text/plain": [
       "129403    2\n",
       "135710    2\n",
       "259096    2\n",
       "68095     2\n",
       "192122    2\n",
       "         ..\n",
       "177084    0\n",
       "37043     1\n",
       "201538    1\n",
       "199791    1\n",
       "77902     0\n",
       "Name: Value, Length: 69559, dtype: category\n",
       "Categories (3, int64): [0 < 1 < 2]"
      ]
     },
     "execution_count": 36,
     "metadata": {},
     "output_type": "execute_result"
    }
   ],
   "source": [
    "ys_cat # y test"
   ]
  },
  {
   "cell_type": "code",
   "execution_count": 37,
   "metadata": {
    "id": "fRLAkZc0Fz_A"
   },
   "outputs": [],
   "source": [
    "from sklearn.ensemble import RandomForestClassifier\n",
    "forest_classifier= RandomForestClassifier(20)"
   ]
  },
  {
   "cell_type": "code",
   "execution_count": 38,
   "metadata": {
    "colab": {
     "base_uri": "https://localhost:8080/"
    },
    "id": "u1ky2waeGBJG",
    "outputId": "379e88a1-1620-44af-c196-623b5cecce8e"
   },
   "outputs": [
    {
     "data": {
      "text/plain": [
       "RandomForestClassifier(n_estimators=20)"
      ]
     },
     "execution_count": 38,
     "metadata": {},
     "output_type": "execute_result"
    }
   ],
   "source": [
    "forest_classifier.fit(X_train,yt_cat)"
   ]
  },
  {
   "cell_type": "code",
   "execution_count": 39,
   "metadata": {
    "colab": {
     "base_uri": "https://localhost:8080/"
    },
    "id": "zVUOF2KTGMn3",
    "outputId": "a86efd3c-7b28-4ce7-d9c6-d5542710cee6"
   },
   "outputs": [
    {
     "data": {
      "text/plain": [
       "0.9159418623039434"
      ]
     },
     "execution_count": 39,
     "metadata": {},
     "output_type": "execute_result"
    }
   ],
   "source": [
    "forest_classifier.score(X_test,ys_cat)"
   ]
  },
  {
   "cell_type": "code",
   "execution_count": null,
   "metadata": {},
   "outputs": [],
   "source": []
  }
 ],
 "metadata": {
  "colab": {
   "collapsed_sections": [],
   "name": "infecting disease.ipynb",
   "provenance": []
  },
  "kernelspec": {
   "display_name": "Python 3",
   "language": "python",
   "name": "python3"
  },
  "language_info": {
   "codemirror_mode": {
    "name": "ipython",
    "version": 3
   },
   "file_extension": ".py",
   "mimetype": "text/x-python",
   "name": "python",
   "nbconvert_exporter": "python",
   "pygments_lexer": "ipython3",
   "version": "3.7.7"
  }
 },
 "nbformat": 4,
 "nbformat_minor": 4
}
