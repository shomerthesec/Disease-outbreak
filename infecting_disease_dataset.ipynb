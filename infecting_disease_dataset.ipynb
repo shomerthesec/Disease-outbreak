{
 "cells": [
  {
   "cell_type": "markdown",
   "metadata": {
    "id": "8wozgFTdUltL"
   },
   "source": [
    " \n",
    "\n",
    "Please consider the provided dataset (DatasetHW1), which was collected\n",
    "from multiple sources. The dataset has 15 features (F1-F15) and 1 output\n",
    "numerical value. The dataset may suffer from noisy, missing, inconsistent or\n",
    "replicated data. Please perform the following steps (if required) to help you in\n",
    "data analysis:\n",
    "\n",
    "1. Data cleaning: Handle missing and noisy data (Note: some missing\n",
    "values have been replaced with zero. So, you can observe the unusual\n",
    "zero values for some features).\n",
    "\n",
    "2. Data Integration: Handle redundant data\n",
    "\n",
    "3. Data reduction: Eliminate irrelevant features, reduce data size, etc.\n",
    "4. Data transformation and discretization\n",
    "\n",
    "    a. Normalize the features\n",
    "\n",
    "    b. Discretize the output numerical valuew\n",
    "\n",
    "5. Data visualization\n",
    "\n",
    "Please preserve a copy of the output data after each step. Write a report to\n",
    "\n",
    "explain your work and to provide data analysis. Please consider the following\n",
    "\n",
    "regulations:\n",
    "1. Group work (The number of students per group will be decided soon).\n",
    "2. Please use Python to implement the steps above.\n",
    "\n",
    "Good luck and stay safe!\n",
    "\n",
    "----\n",
    "----"
   ]
  },
  {
   "cell_type": "markdown",
   "metadata": {
    "id": "sdr6P2QbjGsV"
   },
   "source": [
    "# **Step 1:** Import Python libraries"
   ]
  },
  {
   "cell_type": "code",
   "execution_count": 1,
   "metadata": {
    "id": "adMFIed8vTh1"
   },
   "outputs": [],
   "source": [
    "import pandas as pd\n",
    "import numpy as np\n",
    "import matplotlib.pyplot as plt"
   ]
  },
  {
   "cell_type": "markdown",
   "metadata": {
    "id": "azX6MV8-j_G4"
   },
   "source": [
    "# **Step 2:** Get your data"
   ]
  },
  {
   "cell_type": "markdown",
   "metadata": {
    "id": "QykKTzF-j0_p"
   },
   "source": [
    "I imported the data from Google Sheets to the pandas dataframe."
   ]
  },
  {
   "cell_type": "code",
   "execution_count": 2,
   "metadata": {
    "id": "Om0cSskU1rIG"
   },
   "outputs": [],
   "source": [
    "df = pd.read_csv('DatasetHW1.csv')"
   ]
  },
  {
   "cell_type": "markdown",
   "metadata": {
    "id": "6a0bdoT4jm8z"
   },
   "source": [
    "Let’s check how our data looks like:"
   ]
  },
  {
   "cell_type": "code",
   "execution_count": 3,
   "metadata": {
    "colab": {
     "base_uri": "https://localhost:8080/"
    },
    "id": "N2oZM5N62F0W",
    "outputId": "e2570bd6-cb8c-4740-fc3a-910cc65be8a1"
   },
   "outputs": [
    {
     "data": {
      "text/html": [
       "<div>\n",
       "<style scoped>\n",
       "    .dataframe tbody tr th:only-of-type {\n",
       "        vertical-align: middle;\n",
       "    }\n",
       "\n",
       "    .dataframe tbody tr th {\n",
       "        vertical-align: top;\n",
       "    }\n",
       "\n",
       "    .dataframe thead th {\n",
       "        text-align: right;\n",
       "    }\n",
       "</style>\n",
       "<table border=\"1\" class=\"dataframe\">\n",
       "  <thead>\n",
       "    <tr style=\"text-align: right;\">\n",
       "      <th></th>\n",
       "      <th>ID</th>\n",
       "      <th>F1</th>\n",
       "      <th>F2</th>\n",
       "      <th>F3</th>\n",
       "      <th>F4</th>\n",
       "      <th>F5</th>\n",
       "      <th>F6</th>\n",
       "      <th>F7</th>\n",
       "      <th>F8</th>\n",
       "      <th>F9</th>\n",
       "      <th>F10</th>\n",
       "      <th>F11</th>\n",
       "      <th>F12</th>\n",
       "      <th>F13</th>\n",
       "      <th>F14</th>\n",
       "      <th>F15</th>\n",
       "      <th>Value</th>\n",
       "    </tr>\n",
       "  </thead>\n",
       "  <tbody>\n",
       "    <tr>\n",
       "      <th>0</th>\n",
       "      <td>1</td>\n",
       "      <td>22/01/2020</td>\n",
       "      <td>-14.2710</td>\n",
       "      <td>-170.1320</td>\n",
       "      <td>5.1356</td>\n",
       "      <td>0.001374</td>\n",
       "      <td>283.9886</td>\n",
       "      <td>0.0000</td>\n",
       "      <td>-0.93476</td>\n",
       "      <td>0.0000</td>\n",
       "      <td>12.2452</td>\n",
       "      <td>281.2795</td>\n",
       "      <td>99717.1599</td>\n",
       "      <td>99927.1119</td>\n",
       "      <td>0.000000</td>\n",
       "      <td>99927.1119</td>\n",
       "      <td>0</td>\n",
       "    </tr>\n",
       "    <tr>\n",
       "      <th>1</th>\n",
       "      <td>2</td>\n",
       "      <td>22/01/2020</td>\n",
       "      <td>13.4443</td>\n",
       "      <td>144.7937</td>\n",
       "      <td>5.8085</td>\n",
       "      <td>0.001320</td>\n",
       "      <td>285.1941</td>\n",
       "      <td>403.8700</td>\n",
       "      <td>-0.70282</td>\n",
       "      <td>298.7755</td>\n",
       "      <td>9.3785</td>\n",
       "      <td>445.4341</td>\n",
       "      <td>97703.3562</td>\n",
       "      <td>97750.3321</td>\n",
       "      <td>0.018726</td>\n",
       "      <td>97750.3321</td>\n",
       "      <td>0</td>\n",
       "    </tr>\n",
       "    <tr>\n",
       "      <th>2</th>\n",
       "      <td>3</td>\n",
       "      <td>22/01/2020</td>\n",
       "      <td>15.0979</td>\n",
       "      <td>145.6739</td>\n",
       "      <td>3.6222</td>\n",
       "      <td>0.001748</td>\n",
       "      <td>266.7505</td>\n",
       "      <td>170.4401</td>\n",
       "      <td>-0.93676</td>\n",
       "      <td>274.2803</td>\n",
       "      <td>13.7895</td>\n",
       "      <td>235.4436</td>\n",
       "      <td>100290.4008</td>\n",
       "      <td>100510.7123</td>\n",
       "      <td>0.004192</td>\n",
       "      <td>100510.7123</td>\n",
       "      <td>0</td>\n",
       "    </tr>\n",
       "    <tr>\n",
       "      <th>3</th>\n",
       "      <td>4</td>\n",
       "      <td>22/01/2020</td>\n",
       "      <td>18.1801</td>\n",
       "      <td>-66.7544</td>\n",
       "      <td>5.0478</td>\n",
       "      <td>0.001531</td>\n",
       "      <td>279.6647</td>\n",
       "      <td>541.0320</td>\n",
       "      <td>-1.61730</td>\n",
       "      <td>299.3065</td>\n",
       "      <td>15.1666</td>\n",
       "      <td>265.0875</td>\n",
       "      <td>99897.6388</td>\n",
       "      <td>100191.4410</td>\n",
       "      <td>0.015659</td>\n",
       "      <td>100191.4410</td>\n",
       "      <td>0</td>\n",
       "    </tr>\n",
       "    <tr>\n",
       "      <th>4</th>\n",
       "      <td>5</td>\n",
       "      <td>22/01/2020</td>\n",
       "      <td>18.3603</td>\n",
       "      <td>-67.1751</td>\n",
       "      <td>5.1247</td>\n",
       "      <td>0.001282</td>\n",
       "      <td>272.2021</td>\n",
       "      <td>531.0185</td>\n",
       "      <td>-1.85910</td>\n",
       "      <td>299.0918</td>\n",
       "      <td>8.4582</td>\n",
       "      <td>256.1323</td>\n",
       "      <td>100059.9694</td>\n",
       "      <td>100303.7001</td>\n",
       "      <td>0.015754</td>\n",
       "      <td>100303.7001</td>\n",
       "      <td>0</td>\n",
       "    </tr>\n",
       "  </tbody>\n",
       "</table>\n",
       "</div>"
      ],
      "text/plain": [
       "   ID          F1       F2        F3      F4        F5        F6        F7  \\\n",
       "0   1  22/01/2020 -14.2710 -170.1320  5.1356  0.001374  283.9886    0.0000   \n",
       "1   2  22/01/2020  13.4443  144.7937  5.8085  0.001320  285.1941  403.8700   \n",
       "2   3  22/01/2020  15.0979  145.6739  3.6222  0.001748  266.7505  170.4401   \n",
       "3   4  22/01/2020  18.1801  -66.7544  5.0478  0.001531  279.6647  541.0320   \n",
       "4   5  22/01/2020  18.3603  -67.1751  5.1247  0.001282  272.2021  531.0185   \n",
       "\n",
       "        F8        F9      F10       F11          F12          F13       F14  \\\n",
       "0 -0.93476    0.0000  12.2452  281.2795   99717.1599   99927.1119  0.000000   \n",
       "1 -0.70282  298.7755   9.3785  445.4341   97703.3562   97750.3321  0.018726   \n",
       "2 -0.93676  274.2803  13.7895  235.4436  100290.4008  100510.7123  0.004192   \n",
       "3 -1.61730  299.3065  15.1666  265.0875   99897.6388  100191.4410  0.015659   \n",
       "4 -1.85910  299.0918   8.4582  256.1323  100059.9694  100303.7001  0.015754   \n",
       "\n",
       "           F15  Value  \n",
       "0   99927.1119      0  \n",
       "1   97750.3321      0  \n",
       "2  100510.7123      0  \n",
       "3  100191.4410      0  \n",
       "4  100303.7001      0  "
      ]
     },
     "execution_count": 3,
     "metadata": {},
     "output_type": "execute_result"
    }
   ],
   "source": [
    "df.head(5)"
   ]
  },
  {
   "cell_type": "markdown",
   "metadata": {
    "id": "Gy49lAHVE8EZ"
   },
   "source": [
    "# **Step 3:** Basic Analysis of Dataset"
   ]
  },
  {
   "cell_type": "markdown",
   "metadata": {
    "id": "w681holnF7cd"
   },
   "source": [
    "pandas has several methods that allow you to quickly analyze a dataset and get an idea of the type and amount of data you are dealing with along with some important statistics.\n",
    "\n",
    "    .shape - returns the row and column count of a dataset\n",
    "    .describe() - returns statistics about the numerical columns in a dataset\n",
    "    .dtypes returns the data type of each column\n"
   ]
  },
  {
   "cell_type": "code",
   "execution_count": 4,
   "metadata": {
    "colab": {
     "base_uri": "https://localhost:8080/"
    },
    "id": "rSpZaF95GTwc",
    "outputId": "832491ea-f0ae-4b72-ef07-db2804abf2ab"
   },
   "outputs": [
    {
     "data": {
      "text/plain": [
       "(674322, 17)"
      ]
     },
     "execution_count": 4,
     "metadata": {},
     "output_type": "execute_result"
    }
   ],
   "source": [
    "df.shape"
   ]
  },
  {
   "cell_type": "code",
   "execution_count": 5,
   "metadata": {
    "colab": {
     "base_uri": "https://localhost:8080/",
     "height": 320
    },
    "id": "j644OgKu7uEW",
    "outputId": "6fb6d911-b762-40a3-b1c7-e7d85d0c9150"
   },
   "outputs": [
    {
     "data": {
      "text/html": [
       "<div>\n",
       "<style scoped>\n",
       "    .dataframe tbody tr th:only-of-type {\n",
       "        vertical-align: middle;\n",
       "    }\n",
       "\n",
       "    .dataframe tbody tr th {\n",
       "        vertical-align: top;\n",
       "    }\n",
       "\n",
       "    .dataframe thead th {\n",
       "        text-align: right;\n",
       "    }\n",
       "</style>\n",
       "<table border=\"1\" class=\"dataframe\">\n",
       "  <thead>\n",
       "    <tr style=\"text-align: right;\">\n",
       "      <th></th>\n",
       "      <th>ID</th>\n",
       "      <th>F2</th>\n",
       "      <th>F3</th>\n",
       "      <th>F4</th>\n",
       "      <th>F5</th>\n",
       "      <th>F6</th>\n",
       "      <th>F7</th>\n",
       "      <th>F8</th>\n",
       "      <th>F9</th>\n",
       "      <th>F10</th>\n",
       "      <th>F11</th>\n",
       "      <th>F12</th>\n",
       "      <th>F13</th>\n",
       "      <th>F14</th>\n",
       "      <th>F15</th>\n",
       "      <th>Value</th>\n",
       "    </tr>\n",
       "  </thead>\n",
       "  <tbody>\n",
       "    <tr>\n",
       "      <th>count</th>\n",
       "      <td>674322.000000</td>\n",
       "      <td>674322.000000</td>\n",
       "      <td>674322.000000</td>\n",
       "      <td>674322.000000</td>\n",
       "      <td>674322.000000</td>\n",
       "      <td>674322.000000</td>\n",
       "      <td>674322.000000</td>\n",
       "      <td>674322.000000</td>\n",
       "      <td>674322.000000</td>\n",
       "      <td>674322.000000</td>\n",
       "      <td>674322.000000</td>\n",
       "      <td>674322.000000</td>\n",
       "      <td>674322.000000</td>\n",
       "      <td>674322.000000</td>\n",
       "      <td>674322.000000</td>\n",
       "      <td>6.743220e+05</td>\n",
       "    </tr>\n",
       "    <tr>\n",
       "      <th>mean</th>\n",
       "      <td>337161.500000</td>\n",
       "      <td>35.554208</td>\n",
       "      <td>-80.381668</td>\n",
       "      <td>20.215417</td>\n",
       "      <td>0.010020</td>\n",
       "      <td>285.841722</td>\n",
       "      <td>463.911375</td>\n",
       "      <td>-1.606081</td>\n",
       "      <td>234.279174</td>\n",
       "      <td>14.415300</td>\n",
       "      <td>429.025518</td>\n",
       "      <td>96876.325518</td>\n",
       "      <td>78073.884504</td>\n",
       "      <td>0.007089</td>\n",
       "      <td>78073.884504</td>\n",
       "      <td>1.530725e+03</td>\n",
       "    </tr>\n",
       "    <tr>\n",
       "      <th>std</th>\n",
       "      <td>194660.138447</td>\n",
       "      <td>11.761307</td>\n",
       "      <td>40.586084</td>\n",
       "      <td>10.996307</td>\n",
       "      <td>0.005233</td>\n",
       "      <td>148.008005</td>\n",
       "      <td>303.996827</td>\n",
       "      <td>2.730480</td>\n",
       "      <td>114.950091</td>\n",
       "      <td>13.463633</td>\n",
       "      <td>521.381128</td>\n",
       "      <td>5620.182639</td>\n",
       "      <td>38515.664655</td>\n",
       "      <td>0.005492</td>\n",
       "      <td>38515.664655</td>\n",
       "      <td>3.414866e+04</td>\n",
       "    </tr>\n",
       "    <tr>\n",
       "      <th>min</th>\n",
       "      <td>1.000000</td>\n",
       "      <td>-51.796300</td>\n",
       "      <td>-174.159600</td>\n",
       "      <td>-44.413800</td>\n",
       "      <td>0.000061</td>\n",
       "      <td>0.000000</td>\n",
       "      <td>0.000000</td>\n",
       "      <td>-17.033200</td>\n",
       "      <td>0.000000</td>\n",
       "      <td>0.000000</td>\n",
       "      <td>-1.696600</td>\n",
       "      <td>55265.954400</td>\n",
       "      <td>0.000000</td>\n",
       "      <td>0.000000</td>\n",
       "      <td>0.000000</td>\n",
       "      <td>0.000000e+00</td>\n",
       "    </tr>\n",
       "    <tr>\n",
       "      <th>25%</th>\n",
       "      <td>168581.250000</td>\n",
       "      <td>33.215000</td>\n",
       "      <td>-97.285500</td>\n",
       "      <td>12.073400</td>\n",
       "      <td>0.005346</td>\n",
       "      <td>274.484675</td>\n",
       "      <td>246.389825</td>\n",
       "      <td>-2.071200</td>\n",
       "      <td>274.037500</td>\n",
       "      <td>10.391700</td>\n",
       "      <td>116.676600</td>\n",
       "      <td>96044.586950</td>\n",
       "      <td>86485.336250</td>\n",
       "      <td>0.003001</td>\n",
       "      <td>86485.336250</td>\n",
       "      <td>0.000000e+00</td>\n",
       "    </tr>\n",
       "    <tr>\n",
       "      <th>50%</th>\n",
       "      <td>337161.500000</td>\n",
       "      <td>37.782550</td>\n",
       "      <td>-88.338000</td>\n",
       "      <td>21.819800</td>\n",
       "      <td>0.009189</td>\n",
       "      <td>335.760500</td>\n",
       "      <td>487.924650</td>\n",
       "      <td>-1.593900</td>\n",
       "      <td>287.549350</td>\n",
       "      <td>13.364800</td>\n",
       "      <td>267.706200</td>\n",
       "      <td>98578.332500</td>\n",
       "      <td>97628.411500</td>\n",
       "      <td>0.006094</td>\n",
       "      <td>97628.411500</td>\n",
       "      <td>5.000000e+00</td>\n",
       "    </tr>\n",
       "    <tr>\n",
       "      <th>75%</th>\n",
       "      <td>505741.750000</td>\n",
       "      <td>41.567400</td>\n",
       "      <td>-80.499900</td>\n",
       "      <td>29.018900</td>\n",
       "      <td>0.014581</td>\n",
       "      <td>388.019900</td>\n",
       "      <td>732.319925</td>\n",
       "      <td>-1.178300</td>\n",
       "      <td>296.940400</td>\n",
       "      <td>15.327500</td>\n",
       "      <td>477.554600</td>\n",
       "      <td>100378.248600</td>\n",
       "      <td>99649.793450</td>\n",
       "      <td>0.011416</td>\n",
       "      <td>99649.793450</td>\n",
       "      <td>7.900000e+01</td>\n",
       "    </tr>\n",
       "    <tr>\n",
       "      <th>max</th>\n",
       "      <td>674322.000000</td>\n",
       "      <td>71.706900</td>\n",
       "      <td>178.065000</td>\n",
       "      <td>50.323800</td>\n",
       "      <td>0.025050</td>\n",
       "      <td>541.365300</td>\n",
       "      <td>1212.071200</td>\n",
       "      <td>178.588400</td>\n",
       "      <td>322.377600</td>\n",
       "      <td>80.384500</td>\n",
       "      <td>4874.797300</td>\n",
       "      <td>104780.254600</td>\n",
       "      <td>103965.312100</td>\n",
       "      <td>0.023561</td>\n",
       "      <td>103965.312100</td>\n",
       "      <td>4.233923e+06</td>\n",
       "    </tr>\n",
       "  </tbody>\n",
       "</table>\n",
       "</div>"
      ],
      "text/plain": [
       "                  ID             F2             F3             F4  \\\n",
       "count  674322.000000  674322.000000  674322.000000  674322.000000   \n",
       "mean   337161.500000      35.554208     -80.381668      20.215417   \n",
       "std    194660.138447      11.761307      40.586084      10.996307   \n",
       "min         1.000000     -51.796300    -174.159600     -44.413800   \n",
       "25%    168581.250000      33.215000     -97.285500      12.073400   \n",
       "50%    337161.500000      37.782550     -88.338000      21.819800   \n",
       "75%    505741.750000      41.567400     -80.499900      29.018900   \n",
       "max    674322.000000      71.706900     178.065000      50.323800   \n",
       "\n",
       "                  F5             F6             F7             F8  \\\n",
       "count  674322.000000  674322.000000  674322.000000  674322.000000   \n",
       "mean        0.010020     285.841722     463.911375      -1.606081   \n",
       "std         0.005233     148.008005     303.996827       2.730480   \n",
       "min         0.000061       0.000000       0.000000     -17.033200   \n",
       "25%         0.005346     274.484675     246.389825      -2.071200   \n",
       "50%         0.009189     335.760500     487.924650      -1.593900   \n",
       "75%         0.014581     388.019900     732.319925      -1.178300   \n",
       "max         0.025050     541.365300    1212.071200     178.588400   \n",
       "\n",
       "                  F9            F10            F11            F12  \\\n",
       "count  674322.000000  674322.000000  674322.000000  674322.000000   \n",
       "mean      234.279174      14.415300     429.025518   96876.325518   \n",
       "std       114.950091      13.463633     521.381128    5620.182639   \n",
       "min         0.000000       0.000000      -1.696600   55265.954400   \n",
       "25%       274.037500      10.391700     116.676600   96044.586950   \n",
       "50%       287.549350      13.364800     267.706200   98578.332500   \n",
       "75%       296.940400      15.327500     477.554600  100378.248600   \n",
       "max       322.377600      80.384500    4874.797300  104780.254600   \n",
       "\n",
       "                 F13            F14            F15         Value  \n",
       "count  674322.000000  674322.000000  674322.000000  6.743220e+05  \n",
       "mean    78073.884504       0.007089   78073.884504  1.530725e+03  \n",
       "std     38515.664655       0.005492   38515.664655  3.414866e+04  \n",
       "min         0.000000       0.000000       0.000000  0.000000e+00  \n",
       "25%     86485.336250       0.003001   86485.336250  0.000000e+00  \n",
       "50%     97628.411500       0.006094   97628.411500  5.000000e+00  \n",
       "75%     99649.793450       0.011416   99649.793450  7.900000e+01  \n",
       "max    103965.312100       0.023561  103965.312100  4.233923e+06  "
      ]
     },
     "execution_count": 5,
     "metadata": {},
     "output_type": "execute_result"
    }
   ],
   "source": [
    "df.describe()"
   ]
  },
  {
   "cell_type": "code",
   "execution_count": 6,
   "metadata": {
    "colab": {
     "base_uri": "https://localhost:8080/"
    },
    "id": "U3iWFTPS5OJN",
    "outputId": "165803a4-b30a-474a-ca92-73fbc7bfc601"
   },
   "outputs": [
    {
     "data": {
      "text/plain": [
       "ID         int64\n",
       "F1        object\n",
       "F2       float64\n",
       "F3       float64\n",
       "F4       float64\n",
       "F5       float64\n",
       "F6       float64\n",
       "F7       float64\n",
       "F8       float64\n",
       "F9       float64\n",
       "F10      float64\n",
       "F11      float64\n",
       "F12      float64\n",
       "F13      float64\n",
       "F14      float64\n",
       "F15      float64\n",
       "Value      int64\n",
       "dtype: object"
      ]
     },
     "execution_count": 6,
     "metadata": {},
     "output_type": "execute_result"
    }
   ],
   "source": [
    "df.dtypes"
   ]
  },
  {
   "cell_type": "markdown",
   "metadata": {
    "id": "Ysb7Mop_JTtG"
   },
   "source": [
    "**Missing Values**"
   ]
  },
  {
   "cell_type": "markdown",
   "metadata": {
    "id": "JlaXx4ruNLmi"
   },
   "source": [
    "checking the number of missing data\n"
   ]
  },
  {
   "cell_type": "code",
   "execution_count": 7,
   "metadata": {
    "colab": {
     "base_uri": "https://localhost:8080/"
    },
    "id": "_yjLBm6xB3et",
    "outputId": "4adfc4b8-3f0e-443f-91bd-484958bbf0d5"
   },
   "outputs": [
    {
     "data": {
      "text/plain": [
       "ID       0\n",
       "F1       0\n",
       "F2       0\n",
       "F3       0\n",
       "F4       0\n",
       "F5       0\n",
       "F6       0\n",
       "F7       0\n",
       "F8       0\n",
       "F9       0\n",
       "F10      0\n",
       "F11      0\n",
       "F12      0\n",
       "F13      0\n",
       "F14      0\n",
       "F15      0\n",
       "Value    0\n",
       "dtype: int64"
      ]
     },
     "execution_count": 7,
     "metadata": {},
     "output_type": "execute_result"
    }
   ],
   "source": [
    "df.isnull().sum()"
   ]
  },
  {
   "cell_type": "code",
   "execution_count": 22,
   "metadata": {
    "colab": {
     "base_uri": "https://localhost:8080/"
    },
    "id": "Lxp9v7tb6BKV",
    "outputId": "e96ef3df-5868-47bf-bf08-b9b9d2e6778c"
   },
   "outputs": [
    {
     "name": "stdout",
     "output_type": "stream",
     "text": [
      "ID has 0 Missing values\n",
      "F1 has 0 Missing values\n",
      "F2 has 20944 Missing values\n",
      "F3 has 20944 Missing values\n",
      "F4 has 0 Missing values\n",
      "F5 has 0 Missing values\n",
      "F6 has 130160 Missing values\n",
      "F7 has 130170 Missing values\n",
      "F8 has 7341 Missing values\n",
      "F9 has 130160 Missing values\n",
      "F10 has 130160 Missing values\n",
      "F11 has 0 Missing values\n",
      "F12 has 0 Missing values\n",
      "F13 has 130160 Missing values\n",
      "F14 has 130160 Missing values\n",
      "F15 has 130160 Missing values\n",
      "Value has 263504 Missing values\n"
     ]
    },
    {
     "data": {
      "text/plain": [
       "{None}"
      ]
     },
     "execution_count": 22,
     "metadata": {},
     "output_type": "execute_result"
    }
   ],
   "source": [
    "{print(f'{col} has {len(df[df[col]== 0])} Missing values') for col in df.columns}"
   ]
  },
  {
   "cell_type": "markdown",
   "metadata": {
    "id": "2Y3oy3A6MMwl"
   },
   "source": [
    "# **Step 4:** Data cleaning, integration and reduction\n",
    "\n",
    "\n"
   ]
  },
  {
   "cell_type": "markdown",
   "metadata": {
    "id": "09U1y6wmMoWV"
   },
   "source": [
    "Dropping duplicate values"
   ]
  },
  {
   "cell_type": "code",
   "execution_count": 23,
   "metadata": {
    "colab": {
     "base_uri": "https://localhost:8080/"
    },
    "id": "BPjAR8qsArPH",
    "outputId": "780f9dea-6b7a-4d8a-c6f2-4018cc4853f8"
   },
   "outputs": [
    {
     "data": {
      "text/plain": [
       "(674322, 17)"
      ]
     },
     "execution_count": 23,
     "metadata": {},
     "output_type": "execute_result"
    }
   ],
   "source": [
    "df = df.drop_duplicates()\n",
    "df.shape"
   ]
  },
  {
   "cell_type": "markdown",
   "metadata": {
    "id": "vFVpCcfDNlss"
   },
   "source": [
    "Dropping rows with zero value"
   ]
  },
  {
   "cell_type": "code",
   "execution_count": 25,
   "metadata": {
    "colab": {
     "base_uri": "https://localhost:8080/"
    },
    "id": "Jy9xJkVJIBeC",
    "outputId": "ecd87da9-39b8-4a03-8dff-d7ba53909756"
   },
   "outputs": [
    {
     "data": {
      "text/plain": [
       "(278236, 17)"
      ]
     },
     "execution_count": 25,
     "metadata": {},
     "output_type": "execute_result"
    }
   ],
   "source": [
    "for col in df.columns:\n",
    "    df.drop( df[df[col] == 0].index , inplace = True)\n",
    "\n",
    "df.shape"
   ]
  },
  {
   "cell_type": "code",
   "execution_count": 26,
   "metadata": {
    "colab": {
     "base_uri": "https://localhost:8080/"
    },
    "id": "JmWB0gPKhji7",
    "outputId": "41216d13-4cd4-4917-f445-7ef201bdf299"
   },
   "outputs": [
    {
     "name": "stdout",
     "output_type": "stream",
     "text": [
      "ID has 0 Missing values\n",
      "F1 has 0 Missing values\n",
      "F2 has 0 Missing values\n",
      "F3 has 0 Missing values\n",
      "F4 has 0 Missing values\n",
      "F5 has 0 Missing values\n",
      "F6 has 0 Missing values\n",
      "F7 has 0 Missing values\n",
      "F8 has 0 Missing values\n",
      "F9 has 0 Missing values\n",
      "F10 has 0 Missing values\n",
      "F11 has 0 Missing values\n",
      "F12 has 0 Missing values\n",
      "F13 has 0 Missing values\n",
      "F14 has 0 Missing values\n",
      "F15 has 0 Missing values\n",
      "Value has 0 Missing values\n"
     ]
    },
    {
     "data": {
      "text/plain": [
       "{None}"
      ]
     },
     "execution_count": 26,
     "metadata": {},
     "output_type": "execute_result"
    }
   ],
   "source": [
    "{print(f'{col} has {len(df[df[col]== 0])} Missing values') for col in df.columns}"
   ]
  },
  {
   "cell_type": "markdown",
   "metadata": {
    "id": "K0nd2RiBZaZ-"
   },
   "source": [
    "# **Step 5:** Data transformation and discretization\n"
   ]
  },
  {
   "cell_type": "code",
   "execution_count": 27,
   "metadata": {
    "colab": {
     "base_uri": "https://localhost:8080/",
     "height": 320
    },
    "id": "BaOavietZkbK",
    "outputId": "ac880d2e-de13-45cd-ad19-a7fd7bef6763"
   },
   "outputs": [
    {
     "data": {
      "text/html": [
       "<div>\n",
       "<style scoped>\n",
       "    .dataframe tbody tr th:only-of-type {\n",
       "        vertical-align: middle;\n",
       "    }\n",
       "\n",
       "    .dataframe tbody tr th {\n",
       "        vertical-align: top;\n",
       "    }\n",
       "\n",
       "    .dataframe thead th {\n",
       "        text-align: right;\n",
       "    }\n",
       "</style>\n",
       "<table border=\"1\" class=\"dataframe\">\n",
       "  <thead>\n",
       "    <tr style=\"text-align: right;\">\n",
       "      <th></th>\n",
       "      <th>ID</th>\n",
       "      <th>F2</th>\n",
       "      <th>F3</th>\n",
       "      <th>F4</th>\n",
       "      <th>F5</th>\n",
       "      <th>F6</th>\n",
       "      <th>F7</th>\n",
       "      <th>F8</th>\n",
       "      <th>F9</th>\n",
       "      <th>F10</th>\n",
       "      <th>F11</th>\n",
       "      <th>F12</th>\n",
       "      <th>F13</th>\n",
       "      <th>F14</th>\n",
       "      <th>F15</th>\n",
       "      <th>Value</th>\n",
       "    </tr>\n",
       "  </thead>\n",
       "  <tbody>\n",
       "    <tr>\n",
       "      <th>count</th>\n",
       "      <td>278236.000000</td>\n",
       "      <td>278236.000000</td>\n",
       "      <td>278236.000000</td>\n",
       "      <td>278236.000000</td>\n",
       "      <td>278236.000000</td>\n",
       "      <td>278236.000000</td>\n",
       "      <td>278236.000000</td>\n",
       "      <td>278236.000000</td>\n",
       "      <td>278236.000000</td>\n",
       "      <td>278236.000000</td>\n",
       "      <td>278236.000000</td>\n",
       "      <td>278236.000000</td>\n",
       "      <td>278236.000000</td>\n",
       "      <td>278236.000000</td>\n",
       "      <td>278236.000000</td>\n",
       "      <td>2.782360e+05</td>\n",
       "    </tr>\n",
       "    <tr>\n",
       "      <th>mean</th>\n",
       "      <td>394672.997254</td>\n",
       "      <td>36.800401</td>\n",
       "      <td>-81.788603</td>\n",
       "      <td>22.269169</td>\n",
       "      <td>0.010276</td>\n",
       "      <td>373.812955</td>\n",
       "      <td>670.471084</td>\n",
       "      <td>-1.751293</td>\n",
       "      <td>294.698662</td>\n",
       "      <td>14.796148</td>\n",
       "      <td>445.720166</td>\n",
       "      <td>96622.990512</td>\n",
       "      <td>96634.110702</td>\n",
       "      <td>0.010451</td>\n",
       "      <td>96634.110702</td>\n",
       "      <td>1.037856e+03</td>\n",
       "    </tr>\n",
       "    <tr>\n",
       "      <th>std</th>\n",
       "      <td>105467.708348</td>\n",
       "      <td>9.111459</td>\n",
       "      <td>40.789082</td>\n",
       "      <td>8.607790</td>\n",
       "      <td>0.004515</td>\n",
       "      <td>45.869090</td>\n",
       "      <td>190.091631</td>\n",
       "      <td>0.771562</td>\n",
       "      <td>8.197379</td>\n",
       "      <td>5.399802</td>\n",
       "      <td>506.725057</td>\n",
       "      <td>5475.575368</td>\n",
       "      <td>5401.860377</td>\n",
       "      <td>0.004610</td>\n",
       "      <td>5401.860377</td>\n",
       "      <td>1.264460e+04</td>\n",
       "    </tr>\n",
       "    <tr>\n",
       "      <th>min</th>\n",
       "      <td>3052.000000</td>\n",
       "      <td>-42.882100</td>\n",
       "      <td>-164.035400</td>\n",
       "      <td>-25.555700</td>\n",
       "      <td>0.000316</td>\n",
       "      <td>143.419500</td>\n",
       "      <td>3.923500</td>\n",
       "      <td>-10.923600</td>\n",
       "      <td>231.244900</td>\n",
       "      <td>6.592200</td>\n",
       "      <td>-1.696600</td>\n",
       "      <td>67185.384800</td>\n",
       "      <td>67160.147300</td>\n",
       "      <td>0.000063</td>\n",
       "      <td>67160.147300</td>\n",
       "      <td>1.000000e+00</td>\n",
       "    </tr>\n",
       "    <tr>\n",
       "      <th>25%</th>\n",
       "      <td>311687.500000</td>\n",
       "      <td>33.719000</td>\n",
       "      <td>-96.223200</td>\n",
       "      <td>16.460850</td>\n",
       "      <td>0.006448</td>\n",
       "      <td>340.538950</td>\n",
       "      <td>511.526625</td>\n",
       "      <td>-2.188500</td>\n",
       "      <td>289.258500</td>\n",
       "      <td>12.796000</td>\n",
       "      <td>135.425200</td>\n",
       "      <td>95668.107150</td>\n",
       "      <td>95799.816050</td>\n",
       "      <td>0.006471</td>\n",
       "      <td>95799.816050</td>\n",
       "      <td>6.000000e+00</td>\n",
       "    </tr>\n",
       "    <tr>\n",
       "      <th>50%</th>\n",
       "      <td>400430.500000</td>\n",
       "      <td>37.752200</td>\n",
       "      <td>-88.096700</td>\n",
       "      <td>23.522600</td>\n",
       "      <td>0.009891</td>\n",
       "      <td>377.185850</td>\n",
       "      <td>714.510950</td>\n",
       "      <td>-1.677700</td>\n",
       "      <td>295.860750</td>\n",
       "      <td>14.229600</td>\n",
       "      <td>284.922600</td>\n",
       "      <td>98326.517850</td>\n",
       "      <td>98328.924250</td>\n",
       "      <td>0.010195</td>\n",
       "      <td>98328.924250</td>\n",
       "      <td>2.900000e+01</td>\n",
       "    </tr>\n",
       "    <tr>\n",
       "      <th>75%</th>\n",
       "      <td>484109.250000</td>\n",
       "      <td>41.459900</td>\n",
       "      <td>-81.124900</td>\n",
       "      <td>28.931100</td>\n",
       "      <td>0.014019</td>\n",
       "      <td>410.339325</td>\n",
       "      <td>832.605625</td>\n",
       "      <td>-1.265100</td>\n",
       "      <td>301.029450</td>\n",
       "      <td>15.412300</td>\n",
       "      <td>506.630600</td>\n",
       "      <td>100064.056600</td>\n",
       "      <td>99921.871825</td>\n",
       "      <td>0.014407</td>\n",
       "      <td>99921.871825</td>\n",
       "      <td>1.510000e+02</td>\n",
       "    </tr>\n",
       "    <tr>\n",
       "      <th>max</th>\n",
       "      <td>566030.000000</td>\n",
       "      <td>71.706900</td>\n",
       "      <td>178.065000</td>\n",
       "      <td>49.630700</td>\n",
       "      <td>0.024560</td>\n",
       "      <td>541.365300</td>\n",
       "      <td>1212.071200</td>\n",
       "      <td>5.360300</td>\n",
       "      <td>322.377600</td>\n",
       "      <td>79.314600</td>\n",
       "      <td>3429.221100</td>\n",
       "      <td>104780.254600</td>\n",
       "      <td>103915.247100</td>\n",
       "      <td>0.023407</td>\n",
       "      <td>103915.247100</td>\n",
       "      <td>1.274974e+06</td>\n",
       "    </tr>\n",
       "  </tbody>\n",
       "</table>\n",
       "</div>"
      ],
      "text/plain": [
       "                  ID             F2             F3             F4  \\\n",
       "count  278236.000000  278236.000000  278236.000000  278236.000000   \n",
       "mean   394672.997254      36.800401     -81.788603      22.269169   \n",
       "std    105467.708348       9.111459      40.789082       8.607790   \n",
       "min      3052.000000     -42.882100    -164.035400     -25.555700   \n",
       "25%    311687.500000      33.719000     -96.223200      16.460850   \n",
       "50%    400430.500000      37.752200     -88.096700      23.522600   \n",
       "75%    484109.250000      41.459900     -81.124900      28.931100   \n",
       "max    566030.000000      71.706900     178.065000      49.630700   \n",
       "\n",
       "                  F5             F6             F7             F8  \\\n",
       "count  278236.000000  278236.000000  278236.000000  278236.000000   \n",
       "mean        0.010276     373.812955     670.471084      -1.751293   \n",
       "std         0.004515      45.869090     190.091631       0.771562   \n",
       "min         0.000316     143.419500       3.923500     -10.923600   \n",
       "25%         0.006448     340.538950     511.526625      -2.188500   \n",
       "50%         0.009891     377.185850     714.510950      -1.677700   \n",
       "75%         0.014019     410.339325     832.605625      -1.265100   \n",
       "max         0.024560     541.365300    1212.071200       5.360300   \n",
       "\n",
       "                  F9            F10            F11            F12  \\\n",
       "count  278236.000000  278236.000000  278236.000000  278236.000000   \n",
       "mean      294.698662      14.796148     445.720166   96622.990512   \n",
       "std         8.197379       5.399802     506.725057    5475.575368   \n",
       "min       231.244900       6.592200      -1.696600   67185.384800   \n",
       "25%       289.258500      12.796000     135.425200   95668.107150   \n",
       "50%       295.860750      14.229600     284.922600   98326.517850   \n",
       "75%       301.029450      15.412300     506.630600  100064.056600   \n",
       "max       322.377600      79.314600    3429.221100  104780.254600   \n",
       "\n",
       "                 F13            F14            F15         Value  \n",
       "count  278236.000000  278236.000000  278236.000000  2.782360e+05  \n",
       "mean    96634.110702       0.010451   96634.110702  1.037856e+03  \n",
       "std      5401.860377       0.004610    5401.860377  1.264460e+04  \n",
       "min     67160.147300       0.000063   67160.147300  1.000000e+00  \n",
       "25%     95799.816050       0.006471   95799.816050  6.000000e+00  \n",
       "50%     98328.924250       0.010195   98328.924250  2.900000e+01  \n",
       "75%     99921.871825       0.014407   99921.871825  1.510000e+02  \n",
       "max    103915.247100       0.023407  103915.247100  1.274974e+06  "
      ]
     },
     "execution_count": 27,
     "metadata": {},
     "output_type": "execute_result"
    }
   ],
   "source": [
    "df.describe()"
   ]
  },
  {
   "cell_type": "code",
   "execution_count": 28,
   "metadata": {
    "colab": {
     "base_uri": "https://localhost:8080/",
     "height": 444
    },
    "id": "1tLbpL0uayxf",
    "outputId": "4373a4bb-c3c9-4ef4-8b7d-0b71eec81675"
   },
   "outputs": [],
   "source": [
    "df.to_csv('Infection_Dataset_cleaned')\n"
   ]
  }
 ],
 "metadata": {
  "accelerator": "GPU",
  "colab": {
   "collapsed_sections": [
    "sdr6P2QbjGsV",
    "azX6MV8-j_G4"
   ],
   "name": "Wala-2.ipynb",
   "provenance": []
  },
  "kernelspec": {
   "display_name": "Python 3",
   "language": "python",
   "name": "python3"
  },
  "language_info": {
   "codemirror_mode": {
    "name": "ipython",
    "version": 3
   },
   "file_extension": ".py",
   "mimetype": "text/x-python",
   "name": "python",
   "nbconvert_exporter": "python",
   "pygments_lexer": "ipython3",
   "version": "3.7.7"
  }
 },
 "nbformat": 4,
 "nbformat_minor": 4
}
